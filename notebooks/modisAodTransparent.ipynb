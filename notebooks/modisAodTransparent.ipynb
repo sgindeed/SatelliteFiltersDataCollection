{
 "cells": [
  {
   "cell_type": "code",
   "execution_count": 1,
   "id": "270b3d96-7eb9-4080-b0a2-0f1f680f1ffa",
   "metadata": {},
   "outputs": [],
   "source": [
    "import geopandas as gpd\n",
    "import pandas as pd\n",
    "import ee\n",
    "import geemap\n",
    "from geowrangler import grids\n",
    "import matplotlib.pyplot as plt\n",
    "from shapely.geometry import mapping"
   ]
  },
  {
   "cell_type": "code",
   "execution_count": 2,
   "id": "654c0359-3752-47bf-a6c8-7b3e27f9091d",
   "metadata": {},
   "outputs": [
    {
     "data": {
      "text/html": [
       "\n",
       "            <style>\n",
       "                .geemap-dark {\n",
       "                    --jp-widgets-color: white;\n",
       "                    --jp-widgets-label-color: white;\n",
       "                    --jp-ui-font-color1: white;\n",
       "                    --jp-layout-color2: #454545;\n",
       "                    background-color: #383838;\n",
       "                }\n",
       "\n",
       "                .geemap-dark .jupyter-button {\n",
       "                    --jp-layout-color3: #383838;\n",
       "                }\n",
       "\n",
       "                .geemap-colab {\n",
       "                    background-color: var(--colab-primary-surface-color, white);\n",
       "                }\n",
       "\n",
       "                .geemap-colab .jupyter-button {\n",
       "                    --jp-layout-color3: var(--colab-primary-surface-color, white);\n",
       "                }\n",
       "            </style>\n",
       "            "
      ],
      "text/plain": [
       "<IPython.core.display.HTML object>"
      ]
     },
     "metadata": {},
     "output_type": "display_data"
    },
    {
     "data": {
      "text/html": [
       "<p>To authorize access needed by Earth Engine, open the following\n",
       "        URL in a web browser and follow the instructions:</p>\n",
       "        <p><a href=https://code.earthengine.google.com/client-auth?scopes=https%3A//www.googleapis.com/auth/earthengine%20https%3A//www.googleapis.com/auth/cloud-platform%20https%3A//www.googleapis.com/auth/devstorage.full_control&request_id=r4UQLOt7EFrBmXfA0IMfj2k2AU-dyYo705l5y2YcXpQ&tc=3ySnyF-rXEfcQgsD0ZFp0jGe8vTSTTLPpicLul_QLOE&cc=BEydv84Xxuee3VD9yn5nTr1fLgES2jr0tR5ytAHeWrs>https://code.earthengine.google.com/client-auth?scopes=https%3A//www.googleapis.com/auth/earthengine%20https%3A//www.googleapis.com/auth/cloud-platform%20https%3A//www.googleapis.com/auth/devstorage.full_control&request_id=r4UQLOt7EFrBmXfA0IMfj2k2AU-dyYo705l5y2YcXpQ&tc=3ySnyF-rXEfcQgsD0ZFp0jGe8vTSTTLPpicLul_QLOE&cc=BEydv84Xxuee3VD9yn5nTr1fLgES2jr0tR5ytAHeWrs</a></p>\n",
       "        <p>The authorization workflow will generate a code, which you should paste in the box below.</p>\n",
       "        "
      ],
      "text/plain": [
       "<IPython.core.display.HTML object>"
      ]
     },
     "metadata": {},
     "output_type": "display_data"
    },
    {
     "name": "stdin",
     "output_type": "stream",
     "text": [
      "Enter verification code:  4/1AQlEd8yYvUZlMREwZeTDLsdynswhll6nO1-2yDWnR-SbXSvk-_kbW_s9mdk\n"
     ]
    },
    {
     "name": "stdout",
     "output_type": "stream",
     "text": [
      "\n",
      "Successfully saved authorization token.\n"
     ]
    }
   ],
   "source": [
    "ee.Authenticate()"
   ]
  },
  {
   "cell_type": "code",
   "execution_count": 3,
   "id": "305ccdcc-2a2c-4ebd-b676-7f37b73e9018",
   "metadata": {},
   "outputs": [
    {
     "data": {
      "text/html": [
       "\n",
       "            <style>\n",
       "                .geemap-dark {\n",
       "                    --jp-widgets-color: white;\n",
       "                    --jp-widgets-label-color: white;\n",
       "                    --jp-ui-font-color1: white;\n",
       "                    --jp-layout-color2: #454545;\n",
       "                    background-color: #383838;\n",
       "                }\n",
       "\n",
       "                .geemap-dark .jupyter-button {\n",
       "                    --jp-layout-color3: #383838;\n",
       "                }\n",
       "\n",
       "                .geemap-colab {\n",
       "                    background-color: var(--colab-primary-surface-color, white);\n",
       "                }\n",
       "\n",
       "                .geemap-colab .jupyter-button {\n",
       "                    --jp-layout-color3: var(--colab-primary-surface-color, white);\n",
       "                }\n",
       "            </style>\n",
       "            "
      ],
      "text/plain": [
       "<IPython.core.display.HTML object>"
      ]
     },
     "metadata": {},
     "output_type": "display_data"
    }
   ],
   "source": [
    "ee.Initialize()"
   ]
  },
  {
   "cell_type": "code",
   "execution_count": 4,
   "id": "2bdf2a36-3985-4c7a-8a60-e13f5ee04fb6",
   "metadata": {},
   "outputs": [
    {
     "data": {
      "text/html": [
       "\n",
       "            <style>\n",
       "                .geemap-dark {\n",
       "                    --jp-widgets-color: white;\n",
       "                    --jp-widgets-label-color: white;\n",
       "                    --jp-ui-font-color1: white;\n",
       "                    --jp-layout-color2: #454545;\n",
       "                    background-color: #383838;\n",
       "                }\n",
       "\n",
       "                .geemap-dark .jupyter-button {\n",
       "                    --jp-layout-color3: #383838;\n",
       "                }\n",
       "\n",
       "                .geemap-colab {\n",
       "                    background-color: var(--colab-primary-surface-color, white);\n",
       "                }\n",
       "\n",
       "                .geemap-colab .jupyter-button {\n",
       "                    --jp-layout-color3: var(--colab-primary-surface-color, white);\n",
       "                }\n",
       "            </style>\n",
       "            "
      ],
      "text/plain": [
       "<IPython.core.display.HTML object>"
      ]
     },
     "metadata": {},
     "output_type": "display_data"
    }
   ],
   "source": [
    "geojson_path = 'Untitled_layer.geojson'\n",
    "gdf = gpd.read_file(geojson_path)"
   ]
  },
  {
   "cell_type": "code",
   "execution_count": 5,
   "id": "715801ea-63c7-4ecf-9679-9595c6587fe7",
   "metadata": {},
   "outputs": [
    {
     "data": {
      "text/html": [
       "\n",
       "            <style>\n",
       "                .geemap-dark {\n",
       "                    --jp-widgets-color: white;\n",
       "                    --jp-widgets-label-color: white;\n",
       "                    --jp-ui-font-color1: white;\n",
       "                    --jp-layout-color2: #454545;\n",
       "                    background-color: #383838;\n",
       "                }\n",
       "\n",
       "                .geemap-dark .jupyter-button {\n",
       "                    --jp-layout-color3: #383838;\n",
       "                }\n",
       "\n",
       "                .geemap-colab {\n",
       "                    background-color: var(--colab-primary-surface-color, white);\n",
       "                }\n",
       "\n",
       "                .geemap-colab .jupyter-button {\n",
       "                    --jp-layout-color3: var(--colab-primary-surface-color, white);\n",
       "                }\n",
       "            </style>\n",
       "            "
      ],
      "text/plain": [
       "<IPython.core.display.HTML object>"
      ]
     },
     "metadata": {},
     "output_type": "display_data"
    }
   ],
   "source": [
    "grid_generator = grids.SquareGridGenerator(1_000)\n",
    "grid_gdf = grid_generator.generate_grid(gdf)"
   ]
  },
  {
   "cell_type": "code",
   "execution_count": 6,
   "id": "ffd5b392-ed83-4191-a340-09e2864e8073",
   "metadata": {},
   "outputs": [
    {
     "data": {
      "text/html": [
       "\n",
       "            <style>\n",
       "                .geemap-dark {\n",
       "                    --jp-widgets-color: white;\n",
       "                    --jp-widgets-label-color: white;\n",
       "                    --jp-ui-font-color1: white;\n",
       "                    --jp-layout-color2: #454545;\n",
       "                    background-color: #383838;\n",
       "                }\n",
       "\n",
       "                .geemap-dark .jupyter-button {\n",
       "                    --jp-layout-color3: #383838;\n",
       "                }\n",
       "\n",
       "                .geemap-colab {\n",
       "                    background-color: var(--colab-primary-surface-color, white);\n",
       "                }\n",
       "\n",
       "                .geemap-colab .jupyter-button {\n",
       "                    --jp-layout-color3: var(--colab-primary-surface-color, white);\n",
       "                }\n",
       "            </style>\n",
       "            "
      ],
      "text/plain": [
       "<IPython.core.display.HTML object>"
      ]
     },
     "metadata": {},
     "output_type": "display_data"
    },
    {
     "data": {
      "application/vnd.jupyter.widget-view+json": {
       "model_id": "2706a476079145a19041876d7dd77e8f",
       "version_major": 2,
       "version_minor": 0
      },
      "text/plain": [
       "Map(center=[0, 0], controls=(WidgetControl(options=['position', 'transparent_bg'], widget=SearchDataGUI(childr…"
      ]
     },
     "execution_count": 6,
     "metadata": {},
     "output_type": "execute_result"
    }
   ],
   "source": [
    "Map = geemap.Map()\n",
    "Map.add_gdf(gdf, layer_name='GeoJSON Layer', style={'color': 'red', 'fillOpacity': 0})\n",
    "Map.add_gdf(grid_gdf, layer_name='1km x 1km Grid', style={'color': 'black', 'fillOpacity': 0.2})\n",
    "Map"
   ]
  },
  {
   "cell_type": "code",
   "execution_count": 7,
   "id": "b55800e1-8f85-4664-a96e-aaca23a6d969",
   "metadata": {},
   "outputs": [
    {
     "data": {
      "text/html": [
       "\n",
       "            <style>\n",
       "                .geemap-dark {\n",
       "                    --jp-widgets-color: white;\n",
       "                    --jp-widgets-label-color: white;\n",
       "                    --jp-ui-font-color1: white;\n",
       "                    --jp-layout-color2: #454545;\n",
       "                    background-color: #383838;\n",
       "                }\n",
       "\n",
       "                .geemap-dark .jupyter-button {\n",
       "                    --jp-layout-color3: #383838;\n",
       "                }\n",
       "\n",
       "                .geemap-colab {\n",
       "                    background-color: var(--colab-primary-surface-color, white);\n",
       "                }\n",
       "\n",
       "                .geemap-colab .jupyter-button {\n",
       "                    --jp-layout-color3: var(--colab-primary-surface-color, white);\n",
       "                }\n",
       "            </style>\n",
       "            "
      ],
      "text/plain": [
       "<IPython.core.display.HTML object>"
      ]
     },
     "metadata": {},
     "output_type": "display_data"
    }
   ],
   "source": [
    "geojson = gdf.__geo_interface__"
   ]
  },
  {
   "cell_type": "code",
   "execution_count": 8,
   "id": "aedb37c0-6490-4b5b-9f2c-df7e59fc79c9",
   "metadata": {},
   "outputs": [
    {
     "data": {
      "text/html": [
       "\n",
       "            <style>\n",
       "                .geemap-dark {\n",
       "                    --jp-widgets-color: white;\n",
       "                    --jp-widgets-label-color: white;\n",
       "                    --jp-ui-font-color1: white;\n",
       "                    --jp-layout-color2: #454545;\n",
       "                    background-color: #383838;\n",
       "                }\n",
       "\n",
       "                .geemap-dark .jupyter-button {\n",
       "                    --jp-layout-color3: #383838;\n",
       "                }\n",
       "\n",
       "                .geemap-colab {\n",
       "                    background-color: var(--colab-primary-surface-color, white);\n",
       "                }\n",
       "\n",
       "                .geemap-colab .jupyter-button {\n",
       "                    --jp-layout-color3: var(--colab-primary-surface-color, white);\n",
       "                }\n",
       "            </style>\n",
       "            "
      ],
      "text/plain": [
       "<IPython.core.display.HTML object>"
      ]
     },
     "metadata": {},
     "output_type": "display_data"
    }
   ],
   "source": [
    "roi = ee.Geometry(geojson['features'][0]['geometry'])\n",
    "modis_aod = ee.ImageCollection(\"MODIS/061/MCD19A2_GRANULES\")\\\n",
    "            .select('Optical_Depth_047') \\\n",
    "            .filterDate('2023-01-01', '2023-12-31')\n",
    "start_date = '2023-11-01'\n",
    "end_date = '2023-11-11'\n",
    "modisaod_filtered = modis_aod.filterDate(start_date, end_date).filterBounds(roi)"
   ]
  },
  {
   "cell_type": "code",
   "execution_count": 9,
   "id": "aae57845-fc33-4f34-967d-d3dc99257ed0",
   "metadata": {},
   "outputs": [
    {
     "data": {
      "text/html": [
       "\n",
       "            <style>\n",
       "                .geemap-dark {\n",
       "                    --jp-widgets-color: white;\n",
       "                    --jp-widgets-label-color: white;\n",
       "                    --jp-ui-font-color1: white;\n",
       "                    --jp-layout-color2: #454545;\n",
       "                    background-color: #383838;\n",
       "                }\n",
       "\n",
       "                .geemap-dark .jupyter-button {\n",
       "                    --jp-layout-color3: #383838;\n",
       "                }\n",
       "\n",
       "                .geemap-colab {\n",
       "                    background-color: var(--colab-primary-surface-color, white);\n",
       "                }\n",
       "\n",
       "                .geemap-colab .jupyter-button {\n",
       "                    --jp-layout-color3: var(--colab-primary-surface-color, white);\n",
       "                }\n",
       "            </style>\n",
       "            "
      ],
      "text/plain": [
       "<IPython.core.display.HTML object>"
      ]
     },
     "metadata": {},
     "output_type": "display_data"
    }
   ],
   "source": [
    "def extract_values(image):\n",
    "    date = ee.Date(image.get('system:time_start'))\n",
    "    date_str = date.format('YYYY-MM-dd')\n",
    "    time_str = date.format('HH:mm:ss')\n",
    "    aod = modisaod_filtered.filterDate(date, date.advance(1, 'day')).mean().reduceRegion(\n",
    "        reducer=ee.Reducer.mean(), geometry=roi, scale=1000).get('Optical_Depth_047')\n",
    "    \n",
    "    return ee.Feature(None, {\n",
    "        'date': date_str,\n",
    "        'time': time_str,\n",
    "        'modis_aod': aod\n",
    "    })\n",
    "\n",
    "features = modisaod_filtered.map(extract_values).getInfo()"
   ]
  },
  {
   "cell_type": "code",
   "execution_count": 10,
   "id": "c3064532-f874-45b7-8f91-e6b5f0b351ba",
   "metadata": {},
   "outputs": [
    {
     "data": {
      "text/html": [
       "\n",
       "            <style>\n",
       "                .geemap-dark {\n",
       "                    --jp-widgets-color: white;\n",
       "                    --jp-widgets-label-color: white;\n",
       "                    --jp-ui-font-color1: white;\n",
       "                    --jp-layout-color2: #454545;\n",
       "                    background-color: #383838;\n",
       "                }\n",
       "\n",
       "                .geemap-dark .jupyter-button {\n",
       "                    --jp-layout-color3: #383838;\n",
       "                }\n",
       "\n",
       "                .geemap-colab {\n",
       "                    background-color: var(--colab-primary-surface-color, white);\n",
       "                }\n",
       "\n",
       "                .geemap-colab .jupyter-button {\n",
       "                    --jp-layout-color3: var(--colab-primary-surface-color, white);\n",
       "                }\n",
       "            </style>\n",
       "            "
      ],
      "text/plain": [
       "<IPython.core.display.HTML object>"
      ]
     },
     "metadata": {},
     "output_type": "display_data"
    },
    {
     "data": {
      "text/html": [
       "<div>\n",
       "<style scoped>\n",
       "    .dataframe tbody tr th:only-of-type {\n",
       "        vertical-align: middle;\n",
       "    }\n",
       "\n",
       "    .dataframe tbody tr th {\n",
       "        vertical-align: top;\n",
       "    }\n",
       "\n",
       "    .dataframe thead th {\n",
       "        text-align: right;\n",
       "    }\n",
       "</style>\n",
       "<table border=\"1\" class=\"dataframe\">\n",
       "  <thead>\n",
       "    <tr style=\"text-align: right;\">\n",
       "      <th></th>\n",
       "      <th>date</th>\n",
       "      <th>time</th>\n",
       "      <th>coordinates</th>\n",
       "      <th>modis_aod</th>\n",
       "    </tr>\n",
       "  </thead>\n",
       "  <tbody>\n",
       "    <tr>\n",
       "      <th>0</th>\n",
       "      <td>2023-11-01</td>\n",
       "      <td>00:00:00</td>\n",
       "      <td>(((87.9199927, 23.1013063), (87.9749243, 22.20...</td>\n",
       "      <td>409.133085</td>\n",
       "    </tr>\n",
       "    <tr>\n",
       "      <th>1</th>\n",
       "      <td>2023-11-01</td>\n",
       "      <td>01:35:00</td>\n",
       "      <td>(((87.9199927, 23.1013063), (87.9749243, 22.20...</td>\n",
       "      <td>409.133085</td>\n",
       "    </tr>\n",
       "    <tr>\n",
       "      <th>2</th>\n",
       "      <td>2023-11-01</td>\n",
       "      <td>03:15:00</td>\n",
       "      <td>(((87.9199927, 23.1013063), (87.9749243, 22.20...</td>\n",
       "      <td>409.133085</td>\n",
       "    </tr>\n",
       "    <tr>\n",
       "      <th>3</th>\n",
       "      <td>2023-11-01</td>\n",
       "      <td>04:55:00</td>\n",
       "      <td>(((87.9199927, 23.1013063), (87.9749243, 22.20...</td>\n",
       "      <td>463.792978</td>\n",
       "    </tr>\n",
       "    <tr>\n",
       "      <th>4</th>\n",
       "      <td>2023-11-01</td>\n",
       "      <td>06:30:00</td>\n",
       "      <td>(((87.9199927, 23.1013063), (87.9749243, 22.20...</td>\n",
       "      <td>486.740112</td>\n",
       "    </tr>\n",
       "    <tr>\n",
       "      <th>...</th>\n",
       "      <td>...</td>\n",
       "      <td>...</td>\n",
       "      <td>...</td>\n",
       "      <td>...</td>\n",
       "    </tr>\n",
       "    <tr>\n",
       "      <th>70</th>\n",
       "      <td>2023-11-01</td>\n",
       "      <td>06:35:00</td>\n",
       "      <td>(((87.9199927, 23.1013063), (87.9749243, 22.20...</td>\n",
       "      <td>486.740112</td>\n",
       "    </tr>\n",
       "    <tr>\n",
       "      <th>71</th>\n",
       "      <td>2023-11-01</td>\n",
       "      <td>08:10:00</td>\n",
       "      <td>(((87.9199927, 23.1013063), (87.9749243, 22.20...</td>\n",
       "      <td>573.547664</td>\n",
       "    </tr>\n",
       "    <tr>\n",
       "      <th>72</th>\n",
       "      <td>2023-11-01</td>\n",
       "      <td>09:50:00</td>\n",
       "      <td>(((87.9199927, 23.1013063), (87.9749243, 22.20...</td>\n",
       "      <td>573.547664</td>\n",
       "    </tr>\n",
       "    <tr>\n",
       "      <th>73</th>\n",
       "      <td>2023-11-01</td>\n",
       "      <td>11:30:00</td>\n",
       "      <td>(((87.9199927, 23.1013063), (87.9749243, 22.20...</td>\n",
       "      <td>573.547664</td>\n",
       "    </tr>\n",
       "    <tr>\n",
       "      <th>74</th>\n",
       "      <td>2023-11-01</td>\n",
       "      <td>13:05:00</td>\n",
       "      <td>(((87.9199927, 23.1013063), (87.9749243, 22.20...</td>\n",
       "      <td>573.547664</td>\n",
       "    </tr>\n",
       "  </tbody>\n",
       "</table>\n",
       "<p>75 rows × 4 columns</p>\n",
       "</div>"
      ],
      "text/plain": [
       "          date      time                                        coordinates  \\\n",
       "0   2023-11-01  00:00:00  (((87.9199927, 23.1013063), (87.9749243, 22.20...   \n",
       "1   2023-11-01  01:35:00  (((87.9199927, 23.1013063), (87.9749243, 22.20...   \n",
       "2   2023-11-01  03:15:00  (((87.9199927, 23.1013063), (87.9749243, 22.20...   \n",
       "3   2023-11-01  04:55:00  (((87.9199927, 23.1013063), (87.9749243, 22.20...   \n",
       "4   2023-11-01  06:30:00  (((87.9199927, 23.1013063), (87.9749243, 22.20...   \n",
       "..         ...       ...                                                ...   \n",
       "70  2023-11-01  06:35:00  (((87.9199927, 23.1013063), (87.9749243, 22.20...   \n",
       "71  2023-11-01  08:10:00  (((87.9199927, 23.1013063), (87.9749243, 22.20...   \n",
       "72  2023-11-01  09:50:00  (((87.9199927, 23.1013063), (87.9749243, 22.20...   \n",
       "73  2023-11-01  11:30:00  (((87.9199927, 23.1013063), (87.9749243, 22.20...   \n",
       "74  2023-11-01  13:05:00  (((87.9199927, 23.1013063), (87.9749243, 22.20...   \n",
       "\n",
       "     modis_aod  \n",
       "0   409.133085  \n",
       "1   409.133085  \n",
       "2   409.133085  \n",
       "3   463.792978  \n",
       "4   486.740112  \n",
       "..         ...  \n",
       "70  486.740112  \n",
       "71  573.547664  \n",
       "72  573.547664  \n",
       "73  573.547664  \n",
       "74  573.547664  \n",
       "\n",
       "[75 rows x 4 columns]"
      ]
     },
     "execution_count": 10,
     "metadata": {},
     "output_type": "execute_result"
    }
   ],
   "source": [
    "values = []\n",
    "for feature in features['features']:\n",
    "    date = feature['properties']['date']\n",
    "    time = feature['properties']['time']\n",
    "    \n",
    "    aod = feature['properties'].get('modis_aod', None)\n",
    "    \n",
    "    values.append({\n",
    "        'date': date,\n",
    "        'time': time,\n",
    "        'coordinates': geojson['features'][0]['geometry']['coordinates'],\n",
    "        'modis_aod': aod\n",
    "    })\n",
    "\n",
    "df = pd.DataFrame(values)\n",
    "df.head(75)"
   ]
  },
  {
   "cell_type": "code",
   "execution_count": 11,
   "id": "2bf452fb-580b-4b6e-96c1-31708e9d15a1",
   "metadata": {},
   "outputs": [
    {
     "data": {
      "text/html": [
       "\n",
       "            <style>\n",
       "                .geemap-dark {\n",
       "                    --jp-widgets-color: white;\n",
       "                    --jp-widgets-label-color: white;\n",
       "                    --jp-ui-font-color1: white;\n",
       "                    --jp-layout-color2: #454545;\n",
       "                    background-color: #383838;\n",
       "                }\n",
       "\n",
       "                .geemap-dark .jupyter-button {\n",
       "                    --jp-layout-color3: #383838;\n",
       "                }\n",
       "\n",
       "                .geemap-colab {\n",
       "                    background-color: var(--colab-primary-surface-color, white);\n",
       "                }\n",
       "\n",
       "                .geemap-colab .jupyter-button {\n",
       "                    --jp-layout-color3: var(--colab-primary-surface-color, white);\n",
       "                }\n",
       "            </style>\n",
       "            "
      ],
      "text/plain": [
       "<IPython.core.display.HTML object>"
      ]
     },
     "metadata": {},
     "output_type": "display_data"
    }
   ],
   "source": [
    "df.to_csv('MODIS_AOD_DATA.csv')"
   ]
  },
  {
   "cell_type": "code",
   "execution_count": null,
   "id": "6881b70d-f5c9-4bf2-9a0b-4e44426f6e72",
   "metadata": {},
   "outputs": [],
   "source": []
  }
 ],
 "metadata": {
  "kernelspec": {
   "display_name": "Python 3 (ipykernel)",
   "language": "python",
   "name": "python3"
  },
  "language_info": {
   "codemirror_mode": {
    "name": "ipython",
    "version": 3
   },
   "file_extension": ".py",
   "mimetype": "text/x-python",
   "name": "python",
   "nbconvert_exporter": "python",
   "pygments_lexer": "ipython3",
   "version": "3.12.4"
  }
 },
 "nbformat": 4,
 "nbformat_minor": 5
}
