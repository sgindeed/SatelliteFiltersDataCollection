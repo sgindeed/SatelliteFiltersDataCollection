{
 "cells": [
  {
   "cell_type": "code",
   "execution_count": 1,
   "id": "4ae0a8b6-b11a-4310-bf95-3f1c43407dec",
   "metadata": {},
   "outputs": [],
   "source": [
    "import geopandas as gpd\n",
    "import pandas as pd\n",
    "import ee\n",
    "import geemap\n",
    "from geowrangler import grids\n",
    "import matplotlib.pyplot as plt\n",
    "from shapely.geometry import mapping"
   ]
  },
  {
   "cell_type": "code",
   "execution_count": 2,
   "id": "e70b4f30-d69a-4043-8b7c-103ff4f1a160",
   "metadata": {},
   "outputs": [
    {
     "data": {
      "text/html": [
       "\n",
       "            <style>\n",
       "                .geemap-dark {\n",
       "                    --jp-widgets-color: white;\n",
       "                    --jp-widgets-label-color: white;\n",
       "                    --jp-ui-font-color1: white;\n",
       "                    --jp-layout-color2: #454545;\n",
       "                    background-color: #383838;\n",
       "                }\n",
       "\n",
       "                .geemap-dark .jupyter-button {\n",
       "                    --jp-layout-color3: #383838;\n",
       "                }\n",
       "\n",
       "                .geemap-colab {\n",
       "                    background-color: var(--colab-primary-surface-color, white);\n",
       "                }\n",
       "\n",
       "                .geemap-colab .jupyter-button {\n",
       "                    --jp-layout-color3: var(--colab-primary-surface-color, white);\n",
       "                }\n",
       "            </style>\n",
       "            "
      ],
      "text/plain": [
       "<IPython.core.display.HTML object>"
      ]
     },
     "metadata": {},
     "output_type": "display_data"
    }
   ],
   "source": [
    "ee.Initialize()"
   ]
  },
  {
   "cell_type": "code",
   "execution_count": 3,
   "id": "7cd07a6b-8488-4b74-a4f7-ab427216e087",
   "metadata": {},
   "outputs": [
    {
     "data": {
      "text/html": [
       "\n",
       "            <style>\n",
       "                .geemap-dark {\n",
       "                    --jp-widgets-color: white;\n",
       "                    --jp-widgets-label-color: white;\n",
       "                    --jp-ui-font-color1: white;\n",
       "                    --jp-layout-color2: #454545;\n",
       "                    background-color: #383838;\n",
       "                }\n",
       "\n",
       "                .geemap-dark .jupyter-button {\n",
       "                    --jp-layout-color3: #383838;\n",
       "                }\n",
       "\n",
       "                .geemap-colab {\n",
       "                    background-color: var(--colab-primary-surface-color, white);\n",
       "                }\n",
       "\n",
       "                .geemap-colab .jupyter-button {\n",
       "                    --jp-layout-color3: var(--colab-primary-surface-color, white);\n",
       "                }\n",
       "            </style>\n",
       "            "
      ],
      "text/plain": [
       "<IPython.core.display.HTML object>"
      ]
     },
     "metadata": {},
     "output_type": "display_data"
    }
   ],
   "source": [
    "geojson_path = 'Untitled_layer.geojson'\n",
    "gdf = gpd.read_file(geojson_path)"
   ]
  },
  {
   "cell_type": "code",
   "execution_count": 4,
   "id": "c5681f3b-7ba9-424d-a598-8daa2f0d500c",
   "metadata": {},
   "outputs": [
    {
     "data": {
      "text/html": [
       "\n",
       "            <style>\n",
       "                .geemap-dark {\n",
       "                    --jp-widgets-color: white;\n",
       "                    --jp-widgets-label-color: white;\n",
       "                    --jp-ui-font-color1: white;\n",
       "                    --jp-layout-color2: #454545;\n",
       "                    background-color: #383838;\n",
       "                }\n",
       "\n",
       "                .geemap-dark .jupyter-button {\n",
       "                    --jp-layout-color3: #383838;\n",
       "                }\n",
       "\n",
       "                .geemap-colab {\n",
       "                    background-color: var(--colab-primary-surface-color, white);\n",
       "                }\n",
       "\n",
       "                .geemap-colab .jupyter-button {\n",
       "                    --jp-layout-color3: var(--colab-primary-surface-color, white);\n",
       "                }\n",
       "            </style>\n",
       "            "
      ],
      "text/plain": [
       "<IPython.core.display.HTML object>"
      ]
     },
     "metadata": {},
     "output_type": "display_data"
    }
   ],
   "source": [
    "grid_generator = grids.SquareGridGenerator(1_000)\n",
    "grid_gdf = grid_generator.generate_grid(gdf)"
   ]
  },
  {
   "cell_type": "code",
   "execution_count": 5,
   "id": "a1f09c88-81e6-40a7-b1e6-c1b35b7213de",
   "metadata": {},
   "outputs": [
    {
     "data": {
      "text/html": [
       "\n",
       "            <style>\n",
       "                .geemap-dark {\n",
       "                    --jp-widgets-color: white;\n",
       "                    --jp-widgets-label-color: white;\n",
       "                    --jp-ui-font-color1: white;\n",
       "                    --jp-layout-color2: #454545;\n",
       "                    background-color: #383838;\n",
       "                }\n",
       "\n",
       "                .geemap-dark .jupyter-button {\n",
       "                    --jp-layout-color3: #383838;\n",
       "                }\n",
       "\n",
       "                .geemap-colab {\n",
       "                    background-color: var(--colab-primary-surface-color, white);\n",
       "                }\n",
       "\n",
       "                .geemap-colab .jupyter-button {\n",
       "                    --jp-layout-color3: var(--colab-primary-surface-color, white);\n",
       "                }\n",
       "            </style>\n",
       "            "
      ],
      "text/plain": [
       "<IPython.core.display.HTML object>"
      ]
     },
     "metadata": {},
     "output_type": "display_data"
    },
    {
     "data": {
      "application/vnd.jupyter.widget-view+json": {
       "model_id": "969f8b03193d4149af1da5c73cd0ff6d",
       "version_major": 2,
       "version_minor": 0
      },
      "text/plain": [
       "Map(center=[0, 0], controls=(WidgetControl(options=['position', 'transparent_bg'], widget=SearchDataGUI(childr…"
      ]
     },
     "execution_count": 5,
     "metadata": {},
     "output_type": "execute_result"
    }
   ],
   "source": [
    "Map = geemap.Map()\n",
    "Map.add_gdf(gdf, layer_name='GeoJSON Layer', style={'color': 'red', 'fillOpacity': 0})\n",
    "Map.add_gdf(grid_gdf, layer_name='1km x 1km Grid', style={'color': 'black', 'fillOpacity': 0.2})\n",
    "Map"
   ]
  },
  {
   "cell_type": "code",
   "execution_count": 6,
   "id": "17a0736e-82fb-40e1-8c0f-a5fae4c387d4",
   "metadata": {},
   "outputs": [
    {
     "data": {
      "text/html": [
       "\n",
       "            <style>\n",
       "                .geemap-dark {\n",
       "                    --jp-widgets-color: white;\n",
       "                    --jp-widgets-label-color: white;\n",
       "                    --jp-ui-font-color1: white;\n",
       "                    --jp-layout-color2: #454545;\n",
       "                    background-color: #383838;\n",
       "                }\n",
       "\n",
       "                .geemap-dark .jupyter-button {\n",
       "                    --jp-layout-color3: #383838;\n",
       "                }\n",
       "\n",
       "                .geemap-colab {\n",
       "                    background-color: var(--colab-primary-surface-color, white);\n",
       "                }\n",
       "\n",
       "                .geemap-colab .jupyter-button {\n",
       "                    --jp-layout-color3: var(--colab-primary-surface-color, white);\n",
       "                }\n",
       "            </style>\n",
       "            "
      ],
      "text/plain": [
       "<IPython.core.display.HTML object>"
      ]
     },
     "metadata": {},
     "output_type": "display_data"
    }
   ],
   "source": [
    "geojson = gdf.__geo_interface__"
   ]
  },
  {
   "cell_type": "code",
   "execution_count": 8,
   "id": "ffc0446f-e52a-4b08-8394-c958cf04117d",
   "metadata": {},
   "outputs": [
    {
     "data": {
      "text/html": [
       "\n",
       "            <style>\n",
       "                .geemap-dark {\n",
       "                    --jp-widgets-color: white;\n",
       "                    --jp-widgets-label-color: white;\n",
       "                    --jp-ui-font-color1: white;\n",
       "                    --jp-layout-color2: #454545;\n",
       "                    background-color: #383838;\n",
       "                }\n",
       "\n",
       "                .geemap-dark .jupyter-button {\n",
       "                    --jp-layout-color3: #383838;\n",
       "                }\n",
       "\n",
       "                .geemap-colab {\n",
       "                    background-color: var(--colab-primary-surface-color, white);\n",
       "                }\n",
       "\n",
       "                .geemap-colab .jupyter-button {\n",
       "                    --jp-layout-color3: var(--colab-primary-surface-color, white);\n",
       "                }\n",
       "            </style>\n",
       "            "
      ],
      "text/plain": [
       "<IPython.core.display.HTML object>"
      ]
     },
     "metadata": {},
     "output_type": "display_data"
    }
   ],
   "source": [
    "roi = ee.Geometry(geojson['features'][0]['geometry'])\n",
    "sent_5p = ee.ImageCollection('COPERNICUS/S5P/NRTI/L3_AER_AI')\\\n",
    "            .select('absorbing_aerosol_index') \\\n",
    "            .filterDate('2023-01-01', '2023-12-31')\n",
    "start_date = '2023-11-01'\n",
    "end_date = '2023-11-11'\n",
    "sent5p_filtered = sent_5p.filterDate(start_date, end_date).filterBounds(roi)"
   ]
  },
  {
   "cell_type": "code",
   "execution_count": 9,
   "id": "4511655e-2faa-4a09-bafe-af87ac064c07",
   "metadata": {},
   "outputs": [
    {
     "data": {
      "text/html": [
       "\n",
       "            <style>\n",
       "                .geemap-dark {\n",
       "                    --jp-widgets-color: white;\n",
       "                    --jp-widgets-label-color: white;\n",
       "                    --jp-ui-font-color1: white;\n",
       "                    --jp-layout-color2: #454545;\n",
       "                    background-color: #383838;\n",
       "                }\n",
       "\n",
       "                .geemap-dark .jupyter-button {\n",
       "                    --jp-layout-color3: #383838;\n",
       "                }\n",
       "\n",
       "                .geemap-colab {\n",
       "                    background-color: var(--colab-primary-surface-color, white);\n",
       "                }\n",
       "\n",
       "                .geemap-colab .jupyter-button {\n",
       "                    --jp-layout-color3: var(--colab-primary-surface-color, white);\n",
       "                }\n",
       "            </style>\n",
       "            "
      ],
      "text/plain": [
       "<IPython.core.display.HTML object>"
      ]
     },
     "metadata": {},
     "output_type": "display_data"
    }
   ],
   "source": [
    "def extract_values(image):\n",
    "    date = ee.Date(image.get('system:time_start'))\n",
    "    date_str = date.format('YYYY-MM-dd')\n",
    "    time_str = date.format('HH:mm:ss')\n",
    "    s5p = sent5p_filtered.filterDate(date, date.advance(1, 'day')).mean().reduceRegion(\n",
    "        reducer=ee.Reducer.mean(), geometry=roi, scale=1000).get('absorbing_aerosol_index')\n",
    "    \n",
    "    return ee.Feature(None, {\n",
    "        'date': date_str,\n",
    "        'time': time_str,\n",
    "        'sentinel5p': s5p\n",
    "    })\n",
    "\n",
    "features = sent5p_filtered.map(extract_values).getInfo()"
   ]
  },
  {
   "cell_type": "code",
   "execution_count": 10,
   "id": "a84d6dfc-1fe7-489e-95ff-e8b701734e1f",
   "metadata": {},
   "outputs": [
    {
     "data": {
      "text/html": [
       "\n",
       "            <style>\n",
       "                .geemap-dark {\n",
       "                    --jp-widgets-color: white;\n",
       "                    --jp-widgets-label-color: white;\n",
       "                    --jp-ui-font-color1: white;\n",
       "                    --jp-layout-color2: #454545;\n",
       "                    background-color: #383838;\n",
       "                }\n",
       "\n",
       "                .geemap-dark .jupyter-button {\n",
       "                    --jp-layout-color3: #383838;\n",
       "                }\n",
       "\n",
       "                .geemap-colab {\n",
       "                    background-color: var(--colab-primary-surface-color, white);\n",
       "                }\n",
       "\n",
       "                .geemap-colab .jupyter-button {\n",
       "                    --jp-layout-color3: var(--colab-primary-surface-color, white);\n",
       "                }\n",
       "            </style>\n",
       "            "
      ],
      "text/plain": [
       "<IPython.core.display.HTML object>"
      ]
     },
     "metadata": {},
     "output_type": "display_data"
    },
    {
     "data": {
      "text/html": [
       "<div>\n",
       "<style scoped>\n",
       "    .dataframe tbody tr th:only-of-type {\n",
       "        vertical-align: middle;\n",
       "    }\n",
       "\n",
       "    .dataframe tbody tr th {\n",
       "        vertical-align: top;\n",
       "    }\n",
       "\n",
       "    .dataframe thead th {\n",
       "        text-align: right;\n",
       "    }\n",
       "</style>\n",
       "<table border=\"1\" class=\"dataframe\">\n",
       "  <thead>\n",
       "    <tr style=\"text-align: right;\">\n",
       "      <th></th>\n",
       "      <th>date</th>\n",
       "      <th>time</th>\n",
       "      <th>coordinates</th>\n",
       "      <th>sentinel5p</th>\n",
       "    </tr>\n",
       "  </thead>\n",
       "  <tbody>\n",
       "    <tr>\n",
       "      <th>0</th>\n",
       "      <td>2023-11-01</td>\n",
       "      <td>07:47:03</td>\n",
       "      <td>(((87.9199927, 23.1013063), (87.9749243, 22.20...</td>\n",
       "      <td>-0.508189</td>\n",
       "    </tr>\n",
       "    <tr>\n",
       "      <th>1</th>\n",
       "      <td>2023-11-01</td>\n",
       "      <td>07:52:03</td>\n",
       "      <td>(((87.9199927, 23.1013063), (87.9749243, 22.20...</td>\n",
       "      <td>-0.719448</td>\n",
       "    </tr>\n",
       "    <tr>\n",
       "      <th>2</th>\n",
       "      <td>2023-11-02</td>\n",
       "      <td>07:32:02</td>\n",
       "      <td>(((87.9199927, 23.1013063), (87.9749243, 22.20...</td>\n",
       "      <td>-0.923838</td>\n",
       "    </tr>\n",
       "    <tr>\n",
       "      <th>3</th>\n",
       "      <td>2023-11-03</td>\n",
       "      <td>07:12:02</td>\n",
       "      <td>(((87.9199927, 23.1013063), (87.9749243, 22.20...</td>\n",
       "      <td>-1.028527</td>\n",
       "    </tr>\n",
       "    <tr>\n",
       "      <th>4</th>\n",
       "      <td>2023-11-04</td>\n",
       "      <td>06:52:03</td>\n",
       "      <td>(((87.9199927, 23.1013063), (87.9749243, 22.20...</td>\n",
       "      <td>-0.326445</td>\n",
       "    </tr>\n",
       "    <tr>\n",
       "      <th>5</th>\n",
       "      <td>2023-11-05</td>\n",
       "      <td>06:32:02</td>\n",
       "      <td>(((87.9199927, 23.1013063), (87.9749243, 22.20...</td>\n",
       "      <td>0.224975</td>\n",
       "    </tr>\n",
       "    <tr>\n",
       "      <th>6</th>\n",
       "      <td>2023-11-05</td>\n",
       "      <td>06:37:02</td>\n",
       "      <td>(((87.9199927, 23.1013063), (87.9749243, 22.20...</td>\n",
       "      <td>0.450514</td>\n",
       "    </tr>\n",
       "    <tr>\n",
       "      <th>7</th>\n",
       "      <td>2023-11-05</td>\n",
       "      <td>08:12:03</td>\n",
       "      <td>(((87.9199927, 23.1013063), (87.9749243, 22.20...</td>\n",
       "      <td>0.029941</td>\n",
       "    </tr>\n",
       "    <tr>\n",
       "      <th>8</th>\n",
       "      <td>2023-11-06</td>\n",
       "      <td>06:17:03</td>\n",
       "      <td>(((87.9199927, 23.1013063), (87.9749243, 22.20...</td>\n",
       "      <td>0.029941</td>\n",
       "    </tr>\n",
       "    <tr>\n",
       "      <th>9</th>\n",
       "      <td>2023-11-06</td>\n",
       "      <td>07:57:02</td>\n",
       "      <td>(((87.9199927, 23.1013063), (87.9749243, 22.20...</td>\n",
       "      <td>-0.041257</td>\n",
       "    </tr>\n",
       "    <tr>\n",
       "      <th>10</th>\n",
       "      <td>2023-11-07</td>\n",
       "      <td>07:37:03</td>\n",
       "      <td>(((87.9199927, 23.1013063), (87.9749243, 22.20...</td>\n",
       "      <td>-0.255374</td>\n",
       "    </tr>\n",
       "    <tr>\n",
       "      <th>11</th>\n",
       "      <td>2023-11-08</td>\n",
       "      <td>07:15:43</td>\n",
       "      <td>(((87.9199927, 23.1013063), (87.9749243, 22.20...</td>\n",
       "      <td>-0.116434</td>\n",
       "    </tr>\n",
       "    <tr>\n",
       "      <th>12</th>\n",
       "      <td>2023-11-08</td>\n",
       "      <td>07:20:42</td>\n",
       "      <td>(((87.9199927, 23.1013063), (87.9749243, 22.20...</td>\n",
       "      <td>0.165424</td>\n",
       "    </tr>\n",
       "    <tr>\n",
       "      <th>13</th>\n",
       "      <td>2023-11-09</td>\n",
       "      <td>06:55:42</td>\n",
       "      <td>(((87.9199927, 23.1013063), (87.9749243, 22.20...</td>\n",
       "      <td>0.483149</td>\n",
       "    </tr>\n",
       "    <tr>\n",
       "      <th>14</th>\n",
       "      <td>2023-11-09</td>\n",
       "      <td>07:00:42</td>\n",
       "      <td>(((87.9199927, 23.1013063), (87.9749243, 22.20...</td>\n",
       "      <td>0.483149</td>\n",
       "    </tr>\n",
       "    <tr>\n",
       "      <th>15</th>\n",
       "      <td>2023-11-10</td>\n",
       "      <td>06:40:42</td>\n",
       "      <td>(((87.9199927, 23.1013063), (87.9749243, 22.20...</td>\n",
       "      <td>0.800874</td>\n",
       "    </tr>\n",
       "  </tbody>\n",
       "</table>\n",
       "</div>"
      ],
      "text/plain": [
       "          date      time                                        coordinates  \\\n",
       "0   2023-11-01  07:47:03  (((87.9199927, 23.1013063), (87.9749243, 22.20...   \n",
       "1   2023-11-01  07:52:03  (((87.9199927, 23.1013063), (87.9749243, 22.20...   \n",
       "2   2023-11-02  07:32:02  (((87.9199927, 23.1013063), (87.9749243, 22.20...   \n",
       "3   2023-11-03  07:12:02  (((87.9199927, 23.1013063), (87.9749243, 22.20...   \n",
       "4   2023-11-04  06:52:03  (((87.9199927, 23.1013063), (87.9749243, 22.20...   \n",
       "5   2023-11-05  06:32:02  (((87.9199927, 23.1013063), (87.9749243, 22.20...   \n",
       "6   2023-11-05  06:37:02  (((87.9199927, 23.1013063), (87.9749243, 22.20...   \n",
       "7   2023-11-05  08:12:03  (((87.9199927, 23.1013063), (87.9749243, 22.20...   \n",
       "8   2023-11-06  06:17:03  (((87.9199927, 23.1013063), (87.9749243, 22.20...   \n",
       "9   2023-11-06  07:57:02  (((87.9199927, 23.1013063), (87.9749243, 22.20...   \n",
       "10  2023-11-07  07:37:03  (((87.9199927, 23.1013063), (87.9749243, 22.20...   \n",
       "11  2023-11-08  07:15:43  (((87.9199927, 23.1013063), (87.9749243, 22.20...   \n",
       "12  2023-11-08  07:20:42  (((87.9199927, 23.1013063), (87.9749243, 22.20...   \n",
       "13  2023-11-09  06:55:42  (((87.9199927, 23.1013063), (87.9749243, 22.20...   \n",
       "14  2023-11-09  07:00:42  (((87.9199927, 23.1013063), (87.9749243, 22.20...   \n",
       "15  2023-11-10  06:40:42  (((87.9199927, 23.1013063), (87.9749243, 22.20...   \n",
       "\n",
       "    sentinel5p  \n",
       "0    -0.508189  \n",
       "1    -0.719448  \n",
       "2    -0.923838  \n",
       "3    -1.028527  \n",
       "4    -0.326445  \n",
       "5     0.224975  \n",
       "6     0.450514  \n",
       "7     0.029941  \n",
       "8     0.029941  \n",
       "9    -0.041257  \n",
       "10   -0.255374  \n",
       "11   -0.116434  \n",
       "12    0.165424  \n",
       "13    0.483149  \n",
       "14    0.483149  \n",
       "15    0.800874  "
      ]
     },
     "execution_count": 10,
     "metadata": {},
     "output_type": "execute_result"
    }
   ],
   "source": [
    "values = []\n",
    "for feature in features['features']:\n",
    "    date = feature['properties']['date']\n",
    "    time = feature['properties']['time']\n",
    "    \n",
    "    s5p = feature['properties'].get('sentinel5p', None)\n",
    "    \n",
    "    values.append({\n",
    "        'date': date,\n",
    "        'time': time,\n",
    "        'coordinates': geojson['features'][0]['geometry']['coordinates'],\n",
    "        'sentinel5p': s5p\n",
    "    })\n",
    "\n",
    "df = pd.DataFrame(values)\n",
    "df.head(75)"
   ]
  },
  {
   "cell_type": "code",
   "execution_count": 11,
   "id": "dc6ce515-8999-417c-b1ce-4fbb52c302e7",
   "metadata": {},
   "outputs": [
    {
     "data": {
      "text/html": [
       "\n",
       "            <style>\n",
       "                .geemap-dark {\n",
       "                    --jp-widgets-color: white;\n",
       "                    --jp-widgets-label-color: white;\n",
       "                    --jp-ui-font-color1: white;\n",
       "                    --jp-layout-color2: #454545;\n",
       "                    background-color: #383838;\n",
       "                }\n",
       "\n",
       "                .geemap-dark .jupyter-button {\n",
       "                    --jp-layout-color3: #383838;\n",
       "                }\n",
       "\n",
       "                .geemap-colab {\n",
       "                    background-color: var(--colab-primary-surface-color, white);\n",
       "                }\n",
       "\n",
       "                .geemap-colab .jupyter-button {\n",
       "                    --jp-layout-color3: var(--colab-primary-surface-color, white);\n",
       "                }\n",
       "            </style>\n",
       "            "
      ],
      "text/plain": [
       "<IPython.core.display.HTML object>"
      ]
     },
     "metadata": {},
     "output_type": "display_data"
    },
    {
     "data": {
      "image/png": "[encoded data removed]",
      "text/plain": [
       "<Figure size 1200x500 with 1 Axes>"
      ]
     },
     "metadata": {},
     "output_type": "display_data"
    }
   ],
   "source": [
    "plt.figure(figsize=(12, 5))\n",
    "plt.plot(df['time'], df['sentinel5p'], marker='o', linestyle='-', color='red', label='SENTINEL5P')\n",
    "plt.xlabel('Time')\n",
    "plt.ylabel('SENTINEL5P')\n",
    "plt.title('Time Series of Sentinel 5p')\n",
    "plt.grid(True)\n",
    "plt.xticks(rotation=45)\n",
    "plt.legend()\n",
    "plt.tight_layout()"
   ]
  },
  {
   "cell_type": "code",
   "execution_count": 12,
   "id": "103797f3-b27f-4dc8-b75e-c91284863b28",
   "metadata": {},
   "outputs": [
    {
     "data": {
      "text/html": [
       "\n",
       "            <style>\n",
       "                .geemap-dark {\n",
       "                    --jp-widgets-color: white;\n",
       "                    --jp-widgets-label-color: white;\n",
       "                    --jp-ui-font-color1: white;\n",
       "                    --jp-layout-color2: #454545;\n",
       "                    background-color: #383838;\n",
       "                }\n",
       "\n",
       "                .geemap-dark .jupyter-button {\n",
       "                    --jp-layout-color3: #383838;\n",
       "                }\n",
       "\n",
       "                .geemap-colab {\n",
       "                    background-color: var(--colab-primary-surface-color, white);\n",
       "                }\n",
       "\n",
       "                .geemap-colab .jupyter-button {\n",
       "                    --jp-layout-color3: var(--colab-primary-surface-color, white);\n",
       "                }\n",
       "            </style>\n",
       "            "
      ],
      "text/plain": [
       "<IPython.core.display.HTML object>"
      ]
     },
     "metadata": {},
     "output_type": "display_data"
    }
   ],
   "source": [
    "df.to_csv('SENTINEL_5P_DATA.csv')"
   ]
  },
  {
   "cell_type": "code",
   "execution_count": null,
   "id": "5a4b38d3-2abc-407b-9cf4-0b90439c1b42",
   "metadata": {},
   "outputs": [],
   "source": []
  }
 ],
 "metadata": {
  "kernelspec": {
   "display_name": "Python 3 (ipykernel)",
   "language": "python",
   "name": "python3"
  },
  "language_info": {
   "codemirror_mode": {
    "name": "ipython",
    "version": 3
   },
   "file_extension": ".py",
   "mimetype": "text/x-python",
   "name": "python",
   "nbconvert_exporter": "python",
   "pygments_lexer": "ipython3",
   "version": "3.12.4"
  }
 },
 "nbformat": 4,
 "nbformat_minor": 5
}
